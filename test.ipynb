import plotly.graph_objects as go
from ipywidgets import interact, widgets
from google.colab import output
output.enable_custom_widget_manager()


x = [1, 2, 3, 4, 5]
y = [10, 11, 12, 13, 14]


fig = go.FigureWidget(data=[go.Scatter(x=x, y=y)])


slider = widgets.IntSlider(
    value=1,
    min=0,
    max=10,
    step=1,
    description='okok',
)


def update_plot(change):
    new_y = [y_i + change['new'] for y_i in y]
    with fig.batch_update():
        fig.data[0].y = new_y


slider.observe(update_plot, names='value')


update_plot({'new': slider.value})


display(slider, fig)
